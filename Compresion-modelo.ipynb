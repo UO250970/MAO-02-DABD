{
 "cells": [
  {
   "cell_type": "markdown",
   "id": "5cbd2aad-3423-4bf8-8a33-ae7c7b9070ba",
   "metadata": {
    "id": "5cbd2aad-3423-4bf8-8a33-ae7c7b9070ba"
   },
   "source": [
    "# Técnicas de desarrollo de aplicaciones de Big Data\n",
    "\n",
    "*Lucía Méndez López - lmendez31786@alumnos.uemc.es*"
   ]
  },
  {
   "cell_type": "markdown",
   "id": "02ebf2e0-7dcc-403b-ad90-5ed9e20db48c",
   "metadata": {
    "id": "02ebf2e0-7dcc-403b-ad90-5ed9e20db48c"
   },
   "source": [
    "## Actividad 2 - Desarrollo de aplicación que permite resumir textos."
   ]
  },
  {
   "cell_type": "markdown",
   "id": "255e54e5-0e09-4570-92e1-fd1f16f06f1b",
   "metadata": {
    "id": "255e54e5-0e09-4570-92e1-fd1f16f06f1b"
   },
   "source": [
    "### Importaciones"
   ]
  },
  {
   "cell_type": "markdown",
   "id": "a7e8e055-0584-4707-b726-ada6cc1e4ea7",
   "metadata": {
    "id": "a7e8e055-0584-4707-b726-ada6cc1e4ea7"
   },
   "source": [
    "A continuación listaré todas las librerías que se van a importar para el desarrollo de este trabajo, así como las versiones con las que se han instalado."
   ]
  },
  {
   "cell_type": "code",
   "execution_count": 8,
   "id": "bd7e8b1b",
   "metadata": {},
   "outputs": [],
   "source": [
    "import pickle\n",
    "import gzip"
   ]
  },
  {
   "cell_type": "code",
   "execution_count": null,
   "id": "81c9edf0",
   "metadata": {},
   "outputs": [],
   "source": [
    "# Nombre del archivo del modelo\n",
    "nombre_archivo_modelo = \"llama-2-7b-chat.ggmlv3.q2_K.bin\"\n",
    "\n",
    "# Cargar el modelo desde el archivo\n",
    "with open(nombre_archivo_modelo, \"rb\") as archivo:\n",
    "    modelo = archivo.read()"
   ]
  },
  {
   "cell_type": "code",
   "execution_count": null,
   "id": "54b6478b",
   "metadata": {},
   "outputs": [],
   "source": [
    "# Nombre del archivo comprimido\n",
    "nombre_archivo_comprimido = \"llama-model.pkl.gz\"\n",
    "\n",
    "# Comprimir el modelo usando pickle y gzip\n",
    "with gzip.open(nombre_archivo_comprimido, \"wb\") as archivo_comprimido:\n",
    "    pickle.dump(modelo, archivo_comprimido)\n",
    "\n",
    "print(\"Modelo comprimido guardado como:\", nombre_archivo_comprimido)"
   ]
  },
  {
   "cell_type": "code",
   "execution_count": null,
   "id": "08ec2c37",
   "metadata": {},
   "outputs": [],
   "source": []
  }
 ],
 "metadata": {
  "colab": {
   "provenance": [],
   "toc_visible": true
  },
  "kernelspec": {
   "display_name": "Python 3 (ipykernel)",
   "language": "python",
   "name": "python3"
  },
  "language_info": {
   "codemirror_mode": {
    "name": "ipython",
    "version": 3
   },
   "file_extension": ".py",
   "mimetype": "text/x-python",
   "name": "python",
   "nbconvert_exporter": "python",
   "pygments_lexer": "ipython3",
   "version": "3.11.5"
  }
 },
 "nbformat": 4,
 "nbformat_minor": 5
}
