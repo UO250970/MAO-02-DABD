{
 "cells": [
  {
   "cell_type": "markdown",
   "id": "5cbd2aad-3423-4bf8-8a33-ae7c7b9070ba",
   "metadata": {
    "id": "5cbd2aad-3423-4bf8-8a33-ae7c7b9070ba"
   },
   "source": [
    "# Técnicas de desarrollo de aplicaciones de Big Data\n",
    "\n",
    "*Lucía Méndez López - lmendez31786@alumnos.uemc.es*"
   ]
  },
  {
   "cell_type": "markdown",
   "id": "02ebf2e0-7dcc-403b-ad90-5ed9e20db48c",
   "metadata": {
    "id": "02ebf2e0-7dcc-403b-ad90-5ed9e20db48c"
   },
   "source": [
    "## Actividad 2 - Desarrollo de aplicación que permite resumir textos."
   ]
  },
  {
   "cell_type": "markdown",
   "id": "255e54e5-0e09-4570-92e1-fd1f16f06f1b",
   "metadata": {
    "id": "255e54e5-0e09-4570-92e1-fd1f16f06f1b"
   },
   "source": [
    "### Importaciones"
   ]
  },
  {
   "cell_type": "markdown",
   "id": "a7e8e055-0584-4707-b726-ada6cc1e4ea7",
   "metadata": {
    "id": "a7e8e055-0584-4707-b726-ada6cc1e4ea7"
   },
   "source": [
    "A continuación listaré todas las librerías que se van a importar para el desarrollo de este trabajo, así como las versiones con las que se han instalado."
   ]
  },
  {
   "cell_type": "code",
   "execution_count": 1,
   "id": "bd7e8b1b",
   "metadata": {},
   "outputs": [],
   "source": [
    "import pickle\n",
    "import gzip"
   ]
  },
  {
   "cell_type": "code",
   "execution_count": 2,
   "id": "81c9edf0",
   "metadata": {},
   "outputs": [
    {
     "name": "stdout",
     "output_type": "stream",
     "text": [
      "Modelo comprimido guardado como: llama-model.pkl.gz\n"
     ]
    }
   ],
   "source": [
    "# Nombre del archivo del modelo\n",
    "nombre_archivo_modelo = \"llama-2-7b-chat.ggmlv3.q2_K.bin\"\n",
    "\n",
    "# Cargar el modelo desde el archivo\n",
    "with open(nombre_archivo_modelo, \"rb\") as archivo:\n",
    "    modelo = archivo.read()\n",
    "    \n",
    "# Nombre del archivo comprimido\n",
    "nombre_archivo_comprimido = \"llama-model.pkl.gz\"\n",
    "\n",
    "# Comprimir el modelo usando pickle y gzip\n",
    "with gzip.open(nombre_archivo_comprimido, \"wb\") as archivo_comprimido:\n",
    "    pickle.dump(modelo, archivo_comprimido)\n",
    "\n",
    "print(\"Modelo comprimido guardado como:\", nombre_archivo_comprimido)"
   ]
  },
  {
   "cell_type": "code",
   "execution_count": 3,
   "id": "af24bed5",
   "metadata": {},
   "outputs": [],
   "source": [
    "import gzip\n",
    "import shutil\n",
    "import os"
   ]
  },
  {
   "cell_type": "code",
   "execution_count": 4,
   "id": "05633cd6",
   "metadata": {},
   "outputs": [
    {
     "ename": "OSError",
     "evalue": "[Errno 28] No space left on device",
     "output_type": "error",
     "traceback": [
      "\u001b[1;31m---------------------------------------------------------------------------\u001b[0m",
      "\u001b[1;31mOSError\u001b[0m                                   Traceback (most recent call last)",
      "Cell \u001b[1;32mIn[4], line 14\u001b[0m\n\u001b[0;32m     12\u001b[0m         nombre_parte \u001b[38;5;241m=\u001b[39m \u001b[38;5;124mf\u001b[39m\u001b[38;5;124m\"\u001b[39m\u001b[38;5;132;01m{\u001b[39;00mnombre_archivo_comprimido\u001b[38;5;132;01m}\u001b[39;00m\u001b[38;5;124m.part\u001b[39m\u001b[38;5;132;01m{\u001b[39;00mparte_num\u001b[38;5;132;01m}\u001b[39;00m\u001b[38;5;124m\"\u001b[39m\n\u001b[0;32m     13\u001b[0m         \u001b[38;5;28;01mwith\u001b[39;00m \u001b[38;5;28mopen\u001b[39m(nombre_parte, \u001b[38;5;124m\"\u001b[39m\u001b[38;5;124mwb\u001b[39m\u001b[38;5;124m\"\u001b[39m) \u001b[38;5;28;01mas\u001b[39;00m f_out:\n\u001b[1;32m---> 14\u001b[0m             f_out\u001b[38;5;241m.\u001b[39mwrite(parte)\n\u001b[0;32m     15\u001b[0m         parte_num \u001b[38;5;241m+\u001b[39m\u001b[38;5;241m=\u001b[39m \u001b[38;5;241m1\u001b[39m\n\u001b[0;32m     17\u001b[0m \u001b[38;5;28mprint\u001b[39m(\u001b[38;5;124m\"\u001b[39m\u001b[38;5;124mModelo dividido en partes más pequeñas.\u001b[39m\u001b[38;5;124m\"\u001b[39m)\n",
      "\u001b[1;31mOSError\u001b[0m: [Errno 28] No space left on device"
     ]
    }
   ],
   "source": [
    "# Nombre del archivo comprimido\n",
    "nombre_archivo_comprimido = \"llama-model.pkl.gz\"\n",
    "\n",
    "# Dividir el archivo en partes más pequeñas\n",
    "tamaño_parte = 100 * 1024 * 1024  # 100 MB\n",
    "parte_num = 1\n",
    "with open(nombre_archivo_comprimido, \"rb\") as f_in:\n",
    "    while True:\n",
    "        parte = f_in.read(tamaño_parte)\n",
    "        if not parte:\n",
    "            break\n",
    "        nombre_parte = f\"{nombre_archivo_comprimido}.part{parte_num}\"\n",
    "        with open(nombre_parte, \"wb\") as f_out:\n",
    "            f_out.write(parte)\n",
    "        parte_num += 1\n",
    "\n",
    "print(\"Modelo dividido en partes más pequeñas.\")"
   ]
  },
  {
   "cell_type": "code",
   "execution_count": null,
   "id": "bcb8d16d",
   "metadata": {},
   "outputs": [],
   "source": []
  }
 ],
 "metadata": {
  "colab": {
   "provenance": [],
   "toc_visible": true
  },
  "kernelspec": {
   "display_name": "Python 3 (ipykernel)",
   "language": "python",
   "name": "python3"
  },
  "language_info": {
   "codemirror_mode": {
    "name": "ipython",
    "version": 3
   },
   "file_extension": ".py",
   "mimetype": "text/x-python",
   "name": "python",
   "nbconvert_exporter": "python",
   "pygments_lexer": "ipython3",
   "version": "3.11.5"
  }
 },
 "nbformat": 4,
 "nbformat_minor": 5
}
